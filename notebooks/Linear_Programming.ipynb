{
  "nbformat": 4,
  "nbformat_minor": 0,
  "metadata": {
    "colab": {
      "provenance": []
    },
    "kernelspec": {
      "name": "python3",
      "display_name": "Python 3"
    },
    "language_info": {
      "name": "python"
    }
  },
  "cells": [
    {
      "cell_type": "markdown",
      "source": [
        "# 1.0  Linear Programming"
      ],
      "metadata": {
        "id": "zGpHth3HOU1V"
      }
    },
    {
      "cell_type": "markdown",
      "source": [
        "To solve a LP problem, your program should include the following steps:\n",
        "\n",
        "*   Import OR Tools,\n",
        "* Declare the LP solver,\n",
        "*Define the variables,\n",
        "*Define the constraints,\n",
        "*Define the objective,\n",
        "*Call the LP solver; and\n",
        "*Display the solution"
      ],
      "metadata": {
        "id": "v1Q9I1qYOul-"
      }
    },
    {
      "cell_type": "code",
      "execution_count": 2,
      "metadata": {
        "id": "QLXKvBphN_fm",
        "colab": {
          "base_uri": "https://localhost:8080/"
        },
        "outputId": "bbe658ab-d58c-46fb-9cd7-13f64a4094ac"
      },
      "outputs": [
        {
          "output_type": "stream",
          "name": "stdout",
          "text": [
            "Collecting ortools\n",
            "  Downloading ortools-9.7.2996-cp310-cp310-manylinux_2_17_x86_64.manylinux2014_x86_64.whl (21.1 MB)\n",
            "\u001b[2K     \u001b[90m━━━━━━━━━━━━━━━━━━━━━━━━━━━━━━━━━━━━━━━━\u001b[0m \u001b[32m21.1/21.1 MB\u001b[0m \u001b[31m64.1 MB/s\u001b[0m eta \u001b[36m0:00:00\u001b[0m\n",
            "\u001b[?25hRequirement already satisfied: absl-py>=0.13 in /usr/local/lib/python3.10/dist-packages (from ortools) (1.4.0)\n",
            "Requirement already satisfied: numpy>=1.13.3 in /usr/local/lib/python3.10/dist-packages (from ortools) (1.23.5)\n",
            "Collecting protobuf>=4.23.3 (from ortools)\n",
            "  Downloading protobuf-4.24.3-cp37-abi3-manylinux2014_x86_64.whl (311 kB)\n",
            "\u001b[2K     \u001b[90m━━━━━━━━━━━━━━━━━━━━━━━━━━━━━━━━━━━━━━\u001b[0m \u001b[32m311.6/311.6 kB\u001b[0m \u001b[31m30.3 MB/s\u001b[0m eta \u001b[36m0:00:00\u001b[0m\n",
            "\u001b[?25hInstalling collected packages: protobuf, ortools\n",
            "  Attempting uninstall: protobuf\n",
            "    Found existing installation: protobuf 3.20.3\n",
            "    Uninstalling protobuf-3.20.3:\n",
            "      Successfully uninstalled protobuf-3.20.3\n",
            "\u001b[31mERROR: pip's dependency resolver does not currently take into account all the packages that are installed. This behaviour is the source of the following dependency conflicts.\n",
            "tensorflow-metadata 1.14.0 requires protobuf<4.21,>=3.20.3, but you have protobuf 4.24.3 which is incompatible.\u001b[0m\u001b[31m\n",
            "\u001b[0mSuccessfully installed ortools-9.7.2996 protobuf-4.24.3\n"
          ]
        }
      ],
      "source": [
        "#Download OR Tools\n",
        "!pip install ortools"
      ]
    },
    {
      "cell_type": "markdown",
      "source": [
        "## Solution 1 : Using CP-SAT Solver"
      ],
      "metadata": {
        "id": "rhm2N8CF4jE0"
      }
    },
    {
      "cell_type": "code",
      "source": [
        "# Import the necessary libraries\n",
        "import numpy as np\n",
        "import pandas as pd\n",
        "import ortools\n",
        "\n",
        "import ortools.sat.python.cp_model as cp_model\n",
        "\n",
        "\n",
        "# Create the CP-SAT model\n",
        "model = cp_model.CpModel()\n",
        "\n",
        "# Create the decision variables\n",
        "x = model.NewBoolVar('x')\n",
        "y = model.NewBoolVar('y')\n",
        "\n",
        "# Add the constraints\n",
        "model.Add(x + 2*y <= 14)\n",
        "model.Add(3*x - y >= 0)\n",
        "model.Add(x - y <= 2)\n",
        "model.Add(x >= 0) #non-negative\n",
        "model.Add(y >= 0) #non-negative\n",
        "\n",
        "# Set the objective function\n",
        "# Objective function: 3x + 4y.\n",
        "model.Maximize(3*x + 4*y)\n",
        "\n",
        "# Solve the model\n",
        "status = solver.Solve(model)\n",
        "\n",
        "# Print the solution\n",
        "if status == cp_model.OPTIMAL:\n",
        "    print('The optimal solution is:')\n",
        "    print('x = {}'.format(solver.Value(x)))\n",
        "    print('y = {}'.format(solver.Value(y)))\n",
        "    print('Objective value = {}'.format(solver.ObjectiveValue()))\n",
        "\n",
        "else:\n",
        "    print('No solution found.')"
      ],
      "metadata": {
        "colab": {
          "base_uri": "https://localhost:8080/"
        },
        "id": "vml5Z4bI14FT",
        "outputId": "4e87d531-9c7b-4132-ade6-0241ebdedd5f"
      },
      "execution_count": 15,
      "outputs": [
        {
          "output_type": "stream",
          "name": "stdout",
          "text": [
            "The optimal solution is:\n",
            "x = 1\n",
            "y = 1\n",
            "Objective value = 7.0\n"
          ]
        }
      ]
    },
    {
      "cell_type": "markdown",
      "source": [
        "### Visualising Feasible Area"
      ],
      "metadata": {
        "id": "z3cbJBumEi80"
      }
    },
    {
      "cell_type": "code",
      "source": [
        "import numpy as np\n",
        "import matplotlib.pyplot as plt\n",
        "\n",
        "# Define the constraints of the feasibility area\n",
        "constraints = [\n",
        "    'x + 2*y <= 14',\n",
        "    '3*x - y >= 0',\n",
        "    'x - y <= 2',\n",
        "    'x >= 0',\n",
        "    'y >= 0'\n",
        "]\n",
        "\n",
        "# Create a meshgrid of points in the region of interest\n",
        "x = np.linspace(0, 10, 100)\n",
        "y = np.linspace(0, 10, 100)\n",
        "X, Y = np.meshgrid(x, y)\n",
        "\n",
        "# Evaluate the constraints at each point in the meshgrid\n",
        "feasible = np.ones((len(X), len(Y)), dtype=bool)\n",
        "for constraint in constraints:\n",
        "    feasible = np.logical_and(feasible, eval(constraint, {'x': X, 'y': Y}))\n",
        "\n",
        "# Plot the points in the meshgrid that satisfy all of the constraints\n",
        "plt.contourf(X, Y, feasible, cmap='BuPu_r', alpha=0.5)\n",
        "plt.xlabel('x')\n",
        "plt.ylabel('y')\n",
        "plt.title('Feasibility area')\n",
        "plt.show()"
      ],
      "metadata": {
        "colab": {
          "base_uri": "https://localhost:8080/",
          "height": 472
        },
        "id": "B169kOSY8JMs",
        "outputId": "084983f4-bf8e-4560-8fa7-c1a6302e0b73"
      },
      "execution_count": 57,
      "outputs": [
        {
          "output_type": "display_data",
          "data": {
            "text/plain": [
              "<Figure size 640x480 with 1 Axes>"
            ],
            "image/png": "[encoded data removed]"
          },
          "metadata": {}
        }
      ]
    },
    {
      "cell_type": "markdown",
      "source": [
        "## Solution 2 : Using MPSolver wrapper"
      ],
      "metadata": {
        "id": "mGrAPHuy46VF"
      }
    },
    {
      "cell_type": "code",
      "source": [
        "from ortools.linear_solver import pywraplp\n",
        "\n",
        "\n",
        "def LPModel():\n",
        "    # Instantiate a Glop solver, naming it LinearExample.\n",
        "    solver = pywraplp.Solver.CreateSolver(\"GLOP\")\n",
        "    if not solver:\n",
        "        return\n",
        "\n",
        "    # Create the two variables and let them take on any non-negative value.\n",
        "    x = solver.NumVar(0, solver.infinity(), \"x\")\n",
        "    y = solver.NumVar(0, solver.infinity(), \"y\")\n",
        "\n",
        "    print(\"Number of variables =\", solver.NumVariables())\n",
        "\n",
        "    # Constraint 0: x + 2y <= 14.\n",
        "    solver.Add(x + 2 * y <= 14.0)\n",
        "\n",
        "    # Constraint 1: 3x - y >= 0.\n",
        "    solver.Add(3 * x - y >= 0.0)\n",
        "\n",
        "    # Constraint 2: x - y <= 2.\n",
        "    solver.Add(x - y <= 2.0)\n",
        "\n",
        "    print(\"Number of constraints =\", solver.NumConstraints())\n",
        "\n",
        "    # Objective function: 3x + 4y.\n",
        "    solver.Maximize(3 * x + 4 * y)\n",
        "\n",
        "    # Solve the system.\n",
        "    status = solver.Solve()\n",
        "\n",
        "    if status == pywraplp.Solver.OPTIMAL:\n",
        "        print(\"Solution:\")\n",
        "        print(\"Objective value =\", solver.Objective().Value())\n",
        "        print(\"x =\", x.solution_value())\n",
        "        print(\"y =\", y.solution_value())\n",
        "    else:\n",
        "        print(\"The problem does not have an optimal solution.\")\n",
        "\n",
        "    print(\"\\nAdvanced usage:\")\n",
        "    print(\"Problem solved in %f milliseconds\" % solver.wall_time())\n",
        "    print(\"Problem solved in %d iterations\" % solver.iterations())\n",
        "\n",
        "\n",
        "LPModel()\n"
      ],
      "metadata": {
        "colab": {
          "base_uri": "https://localhost:8080/"
        },
        "id": "iksxhlKK4_Dv",
        "outputId": "f3fc97f6-8523-468e-f6c7-2f687353428b"
      },
      "execution_count": 14,
      "outputs": [
        {
          "output_type": "stream",
          "name": "stdout",
          "text": [
            "Number of variables = 2\n",
            "Number of constraints = 3\n",
            "Solution:\n",
            "Objective value = 33.99999999999999\n",
            "x = 5.999999999999998\n",
            "y = 3.9999999999999996\n",
            "\n",
            "Advanced usage:\n",
            "Problem solved in 3.000000 milliseconds\n",
            "Problem solved in 2 iterations\n"
          ]
        }
      ]
    },
    {
      "cell_type": "markdown",
      "source": [
        "### Visualising Feasible Area"
      ],
      "metadata": {
        "id": "QLJFQJMHEsYw"
      }
    },
    {
      "cell_type": "code",
      "source": [
        "import numpy as np\n",
        "import matplotlib.pyplot as plt\n",
        "\n",
        "# Define the constraints of the feasibility area\n",
        "constraints = [\n",
        "    'x + 2*y <= 14',\n",
        "    '3*x - y >= 0',\n",
        "    'x - y <= 2',\n",
        "    'x >= 0',\n",
        "    'y >= 0'\n",
        "]\n",
        "\n",
        "# Create a meshgrid of points in the region of interest\n",
        "x = np.linspace(0, 10, 100)\n",
        "y = np.linspace(0, 10, 100)\n",
        "X, Y = np.meshgrid(x, y)\n",
        "\n",
        "# Evaluate the constraints at each point in the meshgrid\n",
        "feasible = np.ones((len(X), len(Y)), dtype=bool)\n",
        "for constraint in constraints:\n",
        "    feasible = np.logical_and(feasible, eval(constraint, {'x': X, 'y': Y}))\n",
        "\n",
        "# Plot the points in the meshgrid that satisfy all of the constraints\n",
        "plt.contourf(X, Y, feasible, cmap='BuPu_r', alpha=0.5)\n",
        "plt.xlabel('x')\n",
        "plt.ylabel('y')\n",
        "plt.title('Feasibility area')\n",
        "\n",
        "#Plot the optimal solution\n",
        "point = np.array([5.999999999999998, 3.9999999999999996])\n",
        "\n",
        "# Plot the point using the matplotlib.pyplot.plot() function\n",
        "plt.plot(point[0], point[1], 'ko', markersize=5)\n",
        "\n",
        "# Add a text annotation to the graph\n",
        "plt.annotate('Optimal Solution', point, xytext=(point[0] + 0.1, point[1] + 0.1))\n",
        "\n",
        "plt.show()"
      ],
      "metadata": {
        "colab": {
          "base_uri": "https://localhost:8080/",
          "height": 472
        },
        "outputId": "271663d9-e0d0-4560-af2c-f65fd7078774",
        "id": "pFGHIOmmEsYx"
      },
      "execution_count": 64,
      "outputs": [
        {
          "output_type": "display_data",
          "data": {
            "text/plain": [
              "<Figure size 640x480 with 1 Axes>"
            ],
            "image/png": "[encoded data removed]"
          },
          "metadata": {}
        }
      ]
    },
    {
      "cell_type": "markdown",
      "source": [
        "## (Advanced) Solution 3 : Using GLPK Solver from PyOMO Librarby\n",
        " GLPK uses the simplex method for solving linear problems and branch-and-bound for dealing with integer optimization problems"
      ],
      "metadata": {
        "id": "PuKxXURh-0jo"
      }
    },
    {
      "cell_type": "code",
      "source": [
        "!pip install pyomo --quiet\n",
        "\n",
        "from IPython.display import clear_output\n",
        "\n",
        "# Installing cbc solver\n",
        "import matplotlib.pyplot as plt\n",
        "import numpy as np\n",
        "\n",
        "import shutil\n",
        "import sys\n",
        "import os.path\n",
        "\n",
        "if not shutil.which(\"pyomo\"):\n",
        "    !pip install -q pyomo\n",
        "    assert(shutil.which(\"pyomo\"))\n",
        "\n",
        "if not (shutil.which(\"cbc\") or os.path.isfile(\"cbc\")):\n",
        "    if \"google.colab\" in sys.modules:\n",
        "        !apt-get install -y -qq coinor-cbc\n",
        "    else:\n",
        "        try:\n",
        "            !conda install -c conda-forge coincbc\n",
        "        except:\n",
        "            pass\n",
        "\n",
        "assert(shutil.which(\"cbc\") or os.path.isfile(\"cbc\"))\n",
        "\n",
        "from pyomo.environ import *\n",
        "\n",
        "clear_output()"
      ],
      "metadata": {
        "id": "8x-99EmW-05U"
      },
      "execution_count": 33,
      "outputs": []
    },
    {
      "cell_type": "code",
      "source": [
        "infinity = float('inf')\n",
        "\n",
        "model = AbstractModel()\n",
        "\n",
        "# Foods\n",
        "model.F = Set()\n",
        "# Nutrients\n",
        "model.N = Set()"
      ],
      "metadata": {
        "id": "Z210F-i39aZR"
      },
      "execution_count": 34,
      "outputs": []
    },
    {
      "cell_type": "markdown",
      "source": [
        "Next, we will define parems, objective function and constraints respectively"
      ],
      "metadata": {
        "id": "AMQkNJmY_ILf"
      }
    },
    {
      "cell_type": "code",
      "source": [
        "#Define Model Parem\n",
        "# Cost of each food\n",
        "model.c    = Param(model.F, within=PositiveReals)\n",
        "# Amount of nutrient in each food\n",
        "model.a    = Param(model.F, model.N, within=NonNegativeReals)\n",
        "# Lower and upper bound on each nutrient\n",
        "model.Nmin = Param(model.N, within=NonNegativeReals, default=0.0)\n",
        "model.Nmax = Param(model.N, within=NonNegativeReals, default=infinity)\n",
        "# Volume per serving of food\n",
        "model.V    = Param(model.F, within=PositiveReals)\n",
        "# Maximum volume of food consumed\n",
        "model.Vmax = Param(within=PositiveReals)"
      ],
      "metadata": {
        "id": "MmxDt8kS9uia"
      },
      "execution_count": 28,
      "outputs": []
    },
    {
      "cell_type": "code",
      "source": [
        "# Number of servings consumed of each food\n",
        "model.x = Var(model.F, within=NonNegativeIntegers)"
      ],
      "metadata": {
        "id": "jrsamI1o91kp"
      },
      "execution_count": 29,
      "outputs": []
    },
    {
      "cell_type": "code",
      "source": [
        "#Writing Objective Function\n",
        "\n",
        "#Objective: Minimize the cost of food that is consumed\n",
        "def cost_rule(model):\n",
        "    return sum(model.c[i]*model.x[i] for i in model.F)\n",
        "model.cost = Objective(rule=cost_rule)"
      ],
      "metadata": {
        "id": "UkSZ_VyQ9306"
      },
      "execution_count": 30,
      "outputs": []
    },
    {
      "cell_type": "code",
      "source": [
        "#Define rules for constraints\n",
        "\n",
        "def nutrient_rule(model, j):\n",
        "    value = sum(model.a[i,j]*model.x[i] for i in model.F)\n",
        "    return inequality(model.Nmin[j], value, model.Nmax[j])\n",
        "model.nutrient_limit = Constraint(model.N, rule=nutrient_rule)\n",
        "\n",
        "# Limit the volume of food consumed\n",
        "def volume_rule(model):\n",
        "    return sum(model.V[i]*model.x[i] for i in model.F) <= model.Vmax\n",
        "model.volume = Constraint(rule=volume_rule)"
      ],
      "metadata": {
        "id": "OyF7Pp2I-DMl"
      },
      "execution_count": 31,
      "outputs": []
    },
    {
      "cell_type": "markdown",
      "source": [
        "Lastly, we will download data for the problem"
      ],
      "metadata": {
        "id": "ioqsnsAw_PKl"
      }
    },
    {
      "cell_type": "code",
      "source": [
        "# Donwloading file locally\n",
        "!pip install wget\n",
        "import wget\n",
        "import os\n",
        "\n",
        "print('Beginning file download with wget module')\n",
        "\n",
        "if os.path.exists('LP_diet.py'):\n",
        "    os.remove('LP_diet.py')\n",
        "url = 'https://raw.githubusercontent.com/MerkulovDaniil/sber219/main/notebooks/LP_diet.py'\n",
        "wget.download(url, 'LP_diet.py')\n",
        "\n",
        "if os.path.exists('LP_diet.dat'):\n",
        "    os.remove('LP_diet.dat')\n",
        "url = 'https://raw.githubusercontent.com/MerkulovDaniil/sber219/main/notebooks/LP_diet.dat'\n",
        "wget.download(url, 'LP_diet.dat')\n",
        "\n",
        "clear_output()"
      ],
      "metadata": {
        "id": "HeGKwIaP-L9v"
      },
      "execution_count": 35,
      "outputs": []
    },
    {
      "cell_type": "code",
      "source": [
        "#Putting these declarations all together gives the following model:\n",
        "\n",
        "!cat LP_diet.py"
      ],
      "metadata": {
        "colab": {
          "base_uri": "https://localhost:8080/"
        },
        "id": "lPmk-28J_S2B",
        "outputId": "fe2a98b5-5df1-4308-e60b-9dc14fb445bd"
      },
      "execution_count": 37,
      "outputs": [
        {
          "output_type": "stream",
          "name": "stdout",
          "text": [
            "from pyomo.environ import *\n",
            "infinity = float('inf')\n",
            "\n",
            "model = AbstractModel()\n",
            "\n",
            "# Foods\n",
            "model.F = Set()\n",
            "# Nutrients\n",
            "model.N = Set()\n",
            "\n",
            "# Cost of each food\n",
            "model.c    = Param(model.F, within=PositiveReals)\n",
            "# Amount of nutrient in each food\n",
            "model.a    = Param(model.F, model.N, within=NonNegativeReals)\n",
            "# Lower and upper bound on each nutrient\n",
            "model.Nmin = Param(model.N, within=NonNegativeReals, default=0.0)\n",
            "model.Nmax = Param(model.N, within=NonNegativeReals, default=infinity)\n",
            "# Volume per serving of food\n",
            "model.V    = Param(model.F, within=PositiveReals)\n",
            "# Maximum volume of food consumed\n",
            "model.Vmax = Param(within=PositiveReals)\n",
            "\n",
            "# Number of servings consumed of each food\n",
            "model.x = Var(model.F, within=NonNegativeIntegers)\n",
            "\n",
            "# Minimize the cost of food that is consumed\n",
            "def cost_rule(model):\n",
            "    return sum(model.c[i]*model.x[i] for i in model.F)\n",
            "model.cost = Objective(rule=cost_rule)\n",
            "\n",
            "# Limit nutrient consumption for each nutrient\n",
            "def nutrient_rule(model, j):\n",
            "    value = sum(model.a[i,j]*model.x[i] for i in model.F)\n",
            "    return inequality(model.Nmin[j], value, model.Nmax[j])\n",
            "model.nutrient_limit = Constraint(model.N, rule=nutrient_rule)\n",
            "\n",
            "# Limit the volume of food consumed\n",
            "def volume_rule(model):\n",
            "    return sum(model.V[i]*model.x[i] for i in model.F) <= model.Vmax\n",
            "model.volume = Constraint(rule=volume_rule)\n"
          ]
        }
      ]
    },
    {
      "cell_type": "code",
      "source": [
        "#Doing the same for data\n",
        "!cat LP_diet.dat"
      ],
      "metadata": {
        "colab": {
          "base_uri": "https://localhost:8080/"
        },
        "id": "bgV8l63k_bOR",
        "outputId": "81e1b15f-7ff0-4cb4-cd08-7b883aeeba5d"
      },
      "execution_count": 38,
      "outputs": [
        {
          "output_type": "stream",
          "name": "stdout",
          "text": [
            "param:  F:                          c     V  :=\n",
            "  \"Cheeseburger\"                 1.84   4.0  \n",
            "  \"Ham Sandwich\"                 2.19   7.5  \n",
            "  \"Hamburger\"                    1.84   3.5  \n",
            "  \"Fish Sandwich\"                1.44   5.0  \n",
            "  \"Chicken Sandwich\"             2.29   7.3  \n",
            "  \"Fries\"                         .77   2.6  \n",
            "  \"Sausage Biscuit\"              1.29   4.1  \n",
            "  \"Lowfat Milk\"                   .60   8.0 \n",
            "  \"Orange Juice\"                  .72  12.0 ;\n",
            "\n",
            "param Vmax := 75.0;\n",
            "\n",
            "param:  N:       Nmin   Nmax :=\n",
            "        Cal      2000      .\n",
            "        Carbo     350    375\n",
            "        Protein    55      .\n",
            "        VitA      100      .\n",
            "        VitC      100      .\n",
            "        Calc      100      .\n",
            "        Iron      100      . ;\n",
            "\n",
            "param a:\n",
            "                               Cal  Carbo Protein   VitA   VitC  Calc  Iron :=\n",
            "  \"Cheeseburger\"               510     34     28     15      6    30    20\n",
            "  \"Ham Sandwich\"               370     35     24     15     10    20    20\n",
            "  \"Hamburger\"                  500     42     25      6      2    25    20\n",
            "  \"Fish Sandwich\"              370     38     14      2      0    15    10\n",
            "  \"Chicken Sandwich\"           400     42     31      8     15    15     8\n",
            "  \"Fries\"                      220     26      3      0     15     0     2\n",
            "  \"Sausage Biscuit\"            345     27     15      4      0    20    15\n",
            "  \"Lowfat Milk\"                110     12      9     10      4    30     0\n",
            "  \"Orange Juice\"                80     20      1      2    120     2     2 ;\n"
          ]
        }
      ]
    },
    {
      "cell_type": "markdown",
      "source": [
        "To customise this data, you can do the following steps"
      ],
      "metadata": {
        "id": "9DT2u-FiBsFe"
      }
    },
    {
      "cell_type": "code",
      "source": [
        "#Open the file\n",
        "import io\n",
        "with io.open('LP_diet.dat', 'r') as f:\n",
        "    file_contents = f.read()\n",
        "\n",
        "#Now please input the updated version as file_contents\n",
        "#file_contents =\n",
        "\n",
        "#Save the file\n",
        "with io.open('LP_diet.dat', 'w') as f:\n",
        "    f.write(file_contents)"
      ],
      "metadata": {
        "id": "bwapfQYhBPfh"
      },
      "execution_count": 43,
      "outputs": []
    },
    {
      "cell_type": "markdown",
      "source": [
        "Now we will solve this problem using GLPK solver"
      ],
      "metadata": {
        "id": "-YviIYb8_2lI"
      }
    },
    {
      "cell_type": "code",
      "source": [
        "!pyomo solve --solver=cbc LP_diet.py LP_diet.dat"
      ],
      "metadata": {
        "colab": {
          "base_uri": "https://localhost:8080/"
        },
        "id": "pfCwpQur_25Y",
        "outputId": "59a228e7-b69f-409a-e3e5-4236a6c6ebc0"
      },
      "execution_count": 39,
      "outputs": [
        {
          "output_type": "stream",
          "name": "stdout",
          "text": [
            "[    0.00] Setting up Pyomo environment\n",
            "[    0.00] Applying Pyomo preprocessing actions\n",
            "[    0.00] Creating model\n",
            "[    0.04] Applying solver\n",
            "[    0.15] Processing results\n",
            "    Number of solutions: 1\n",
            "    Solution Information\n",
            "      Gap: 0.0\n",
            "      Status: optimal\n",
            "      Function Value: 15.05\n",
            "    Solver results file: results.yml\n",
            "[    0.15] Applying Pyomo postprocessing actions\n",
            "[    0.15] Pyomo Finished\n"
          ]
        }
      ]
    },
    {
      "cell_type": "code",
      "source": [
        "!cat results.yml"
      ],
      "metadata": {
        "colab": {
          "base_uri": "https://localhost:8080/"
        },
        "id": "ybNkFscKAAv3",
        "outputId": "484f4197-6ce6-4daf-e753-03731077d608"
      },
      "execution_count": 40,
      "outputs": [
        {
          "output_type": "stream",
          "name": "stdout",
          "text": [
            "# ==========================================================\n",
            "# = Solver Results                                         =\n",
            "# ==========================================================\n",
            "# ----------------------------------------------------------\n",
            "#   Problem Information\n",
            "# ----------------------------------------------------------\n",
            "Problem: \n",
            "- Name: unknown\n",
            "  Lower bound: 15.05\n",
            "  Upper bound: 15.05\n",
            "  Number of objectives: 1\n",
            "  Number of constraints: 9\n",
            "  Number of variables: 9\n",
            "  Number of binary variables: 0\n",
            "  Number of integer variables: 9\n",
            "  Number of nonzeros: 9\n",
            "  Sense: minimize\n",
            "# ----------------------------------------------------------\n",
            "#   Solver Information\n",
            "# ----------------------------------------------------------\n",
            "Solver: \n",
            "- Status: ok\n",
            "  User time: -1.0\n",
            "  System time: 0.04\n",
            "  Wallclock time: 0.04\n",
            "  Termination condition: optimal\n",
            "  Termination message: Model was solved to optimality (subject to tolerances), and an optimal solution is available.\n",
            "  Statistics: \n",
            "    Branch and bound: \n",
            "      Number of bounded subproblems: 8\n",
            "      Number of created subproblems: 8\n",
            "    Black box: \n",
            "      Number of iterations: 191\n",
            "  Error rc: 0\n",
            "  Time: 0.08603024482727051\n",
            "# ----------------------------------------------------------\n",
            "#   Solution Information\n",
            "# ----------------------------------------------------------\n",
            "Solution: \n",
            "- number of solutions: 1\n",
            "  number of solutions displayed: 1\n",
            "- Gap: 0.0\n",
            "  Status: optimal\n",
            "  Message: None\n",
            "  Objective:\n",
            "    cost:\n",
            "      Value: 15.05\n",
            "  Variable:\n",
            "    x[Cheeseburger]:\n",
            "      Value: 4\n",
            "    x[Fish Sandwich]:\n",
            "      Value: 1\n",
            "    x[Fries]:\n",
            "      Value: 5\n",
            "    x[Lowfat Milk]:\n",
            "      Value: 4\n",
            "  Constraint: No values\n"
          ]
        }
      ]
    }
  ]
}